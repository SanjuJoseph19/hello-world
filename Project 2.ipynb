{
 "cells": [
  {
   "cell_type": "code",
   "execution_count": 57,
   "id": "d54bf004-9917-4d78-851a-b9b66dcc2e52",
   "metadata": {},
   "outputs": [],
   "source": [
    "import pandas as pd"
   ]
  },
  {
   "cell_type": "code",
   "execution_count": 59,
   "id": "10226b75-3835-490f-b208-4d6fe6e0e21e",
   "metadata": {},
   "outputs": [],
   "source": [
    "df = pd.read_csv(\"youtube_dataset.csv\", encoding=\"ISO-8859-1\")"
   ]
  },
  {
   "cell_type": "code",
   "execution_count": 61,
   "id": "1d3e9aa1-7d01-437a-9a8a-6d493178e147",
   "metadata": {},
   "outputs": [],
   "source": [
    "top_1000_df = df.head(1000)"
   ]
  },
  {
   "cell_type": "code",
   "execution_count": 63,
   "id": "29a47527-62e9-4e85-9b02-611e6eee89f4",
   "metadata": {},
   "outputs": [
    {
     "name": "stdout",
     "output_type": "stream",
     "text": [
      "     web-scraper-order                              web-scraper-start-url  \\\n",
      "0      1553043067-5148  https://socialblade.com/youtube/top/5000/mosts...   \n",
      "1      1553043063-5147  https://socialblade.com/youtube/top/5000/mosts...   \n",
      "2      1553043059-5146  https://socialblade.com/youtube/top/5000/mosts...   \n",
      "3      1553043055-5145  https://socialblade.com/youtube/top/5000/mosts...   \n",
      "4      1553043051-5144  https://socialblade.com/youtube/top/5000/mosts...   \n",
      "...                ...                                                ...   \n",
      "3939   1553037913-3921  https://socialblade.com/youtube/top/5000/mosts...   \n",
      "3940    1553024302-913  https://socialblade.com/youtube/top/5000/mosts...   \n",
      "3941   1553034470-3276  https://socialblade.com/youtube/top/5000/mosts...   \n",
      "3942   1553040011-4402  https://socialblade.com/youtube/top/5000/mosts...   \n",
      "3943   1553027486-1650  https://socialblade.com/youtube/top/5000/mosts...   \n",
      "\n",
      "                      userID  \\\n",
      "0                  PewDiePie   \n",
      "1                   T-Series   \n",
      "2                     Gaming   \n",
      "3             YouTube Movies   \n",
      "4                     Sports   \n",
      "...                      ...   \n",
      "3939                  Genius   \n",
      "3940                Wolfychu   \n",
      "3941             FRANKIEonPC   \n",
      "3942  Hi Gorgeous Anna Layza   \n",
      "3943            Druzhko Show   \n",
      "\n",
      "                                            userID-href            name  \\\n",
      "0           https://socialblade.com/youtube/c/pewdiepie       PewDiePie   \n",
      "1        https://socialblade.com/youtube/c/tseriesmusic        T-Series   \n",
      "2     https://socialblade.com/youtube/channel/UCOpNc...          Gaming   \n",
      "3     https://socialblade.com/youtube/channel/UClgRk...  YouTube Movies   \n",
      "4     https://socialblade.com/youtube/channel/UCEgdi...          Sports   \n",
      "...                                                 ...             ...   \n",
      "3939          https://socialblade.com/youtube/c/genius?          genius   \n",
      "3940         https://socialblade.com/youtube/c/wolfychu        WolfyChu   \n",
      "3941      https://socialblade.com/youtube/c/frankieonpc     frankieonpc   \n",
      "3942       https://socialblade.com/youtube/c/higorgeous      higorgeous   \n",
      "3943      https://socialblade.com/youtube/c/druzhkoshow    druzhko show   \n",
      "\n",
      "      uploads  subscribers   videoviews country    channeltype  \\\n",
      "0        3779     90210848  20772365682      US  Entertainment   \n",
      "1       13218     90194329  65092058996      IN          Music   \n",
      "2           0     81888222            0     NaN          Games   \n",
      "3           0     77413743            0     NaN           Film   \n",
      "4           0     75622870            0     NaN         Sports   \n",
      "...       ...          ...          ...     ...            ...   \n",
      "3939        0           20            0     NaN          Games   \n",
      "3940       16           18          757     NaN            NaN   \n",
      "3941        0           16            0      GB          Games   \n",
      "3942        1           16          918     NaN         Comedy   \n",
      "3943        0           12            0     NaN            NaN   \n",
      "\n",
      "         usercreated grade YouTube_Link  \\\n",
      "0     Apr 29th, 2010     A          NaN   \n",
      "1     Mar 13th, 2006   A++          NaN   \n",
      "2     Dec 15th, 2013    D-          NaN   \n",
      "3     Jun 10th, 2015    D-          NaN   \n",
      "4     Dec 15th, 2013    D-          NaN   \n",
      "...              ...   ...          ...   \n",
      "3939  Aug 28th, 2005    D-          NaN   \n",
      "3940  Feb 10th, 2008   TBD          NaN   \n",
      "3941              --    B-          NaN   \n",
      "3942   Jan 2nd, 2007    B+          NaN   \n",
      "3943  Jan 30th, 2017    D-          NaN   \n",
      "\n",
      "                                      YouTube_Link-href TwitterHandle  \\\n",
      "0     https://youtube.com/channel/UC-lHJZR3Gqxm24_Vd...           NaN   \n",
      "1     https://youtube.com/channel/UCq-Fj5jknLsUf-MWS...           NaN   \n",
      "2     https://youtube.com/channel/UCOpNcN46UbXVtpKMr...           NaN   \n",
      "3     https://youtube.com/channel/UClgRkhTL3_hImCAmd...           NaN   \n",
      "4     https://youtube.com/channel/UCEgdi0XIXXZ-qJOFP...           NaN   \n",
      "...                                                 ...           ...   \n",
      "3939  https://youtube.com/channel/UCdNvF54AYp2qRt8Dk...           NaN   \n",
      "3940  https://youtube.com/channel/UCylrI37DWJfPPo8W2...           NaN   \n",
      "3941  https://youtube.com/channel/UCHF3A1sMkv7Q0ywaz...           NaN   \n",
      "3942  https://youtube.com/channel/UClrGcMQweED1oqTES...           NaN   \n",
      "3943  https://youtube.com/channel/UCFYVnwfusuBfdNlKQ...           NaN   \n",
      "\n",
      "                          TwitterHandle-href InstagramHandle  \\\n",
      "0              https://twitter.com/pewdiepie             NaN   \n",
      "1     https://instagram.com/tseries.official             NaN   \n",
      "2                                        NaN             NaN   \n",
      "3                                        NaN             NaN   \n",
      "4                                        NaN             NaN   \n",
      "...                                      ...             ...   \n",
      "3939                                     NaN             NaN   \n",
      "3940                                     NaN             NaN   \n",
      "3941                                     NaN             NaN   \n",
      "3942                                     NaN             NaN   \n",
      "3943                                     NaN             NaN   \n",
      "\n",
      "                                   InstagramHandle-href   MonthlyEarnings  \\\n",
      "0                       https://instagram.com/pewdiepie    66.9K - 1.1M   \n",
      "1         https://plus.google.com/115156822320080163368  635.6K - 10.2M   \n",
      "2     https://youtube.com/channel/UCOpNcN46UbXVtpKMr...           0 - 0   \n",
      "3     https://youtube.com/channel/UClgRkhTL3_hImCAmd...           0 - 0   \n",
      "4     https://youtube.com/channel/UCEgdi0XIXXZ-qJOFP...           0 - 0   \n",
      "...                                                 ...               ...   \n",
      "3939  https://youtube.com/channel/UCdNvF54AYp2qRt8Dk...           0 - 0   \n",
      "3940  https://youtube.com/channel/UCylrI37DWJfPPo8W2...       0.65 - 10   \n",
      "3941  https://youtube.com/channel/UCHF3A1sMkv7Q0ywaz...      195 - 3.1K   \n",
      "3942  https://youtube.com/channel/UClrGcMQweED1oqTES...  19.9K - 318.2K   \n",
      "3943  https://youtube.com/channel/UCFYVnwfusuBfdNlKQ...           0 - 0   \n",
      "\n",
      "        YearlyEarnings  \n",
      "0     802.3K - 12.8M  \n",
      "1        7.6M - 122M  \n",
      "2              0 - 0  \n",
      "3              0 - 0  \n",
      "4              0 - 0  \n",
      "...                ...  \n",
      "3939           0 - 0  \n",
      "3940         8 - 124  \n",
      "3941    2.3K - 37.5K  \n",
      "3942   238.7K - 3.8M  \n",
      "3943           0 - 0  \n",
      "\n",
      "[3944 rows x 20 columns]\n"
     ]
    }
   ],
   "source": [
    "print(df)"
   ]
  },
  {
   "cell_type": "code",
   "execution_count": 67,
   "id": "0c4d32d7-c8ed-494d-a222-7894a85c8adf",
   "metadata": {},
   "outputs": [],
   "source": [
    "top_1000_df.to_csv(\"top_1000_youtube_channels.csv\", index=False, encoding=\"ISO-8859-1\")"
   ]
  },
  {
   "cell_type": "code",
   "execution_count": null,
   "id": "3848b443-3e6b-4a91-9f39-f9704637dcbd",
   "metadata": {},
   "outputs": [],
   "source": []
  }
 ],
 "metadata": {
  "kernelspec": {
   "display_name": "Python [conda env:base] *",
   "language": "python",
   "name": "conda-base-py"
  },
  "language_info": {
   "codemirror_mode": {
    "name": "ipython",
    "version": 3
   },
   "file_extension": ".py",
   "mimetype": "text/x-python",
   "name": "python",
   "nbconvert_exporter": "python",
   "pygments_lexer": "ipython3",
   "version": "3.12.7"
  }
 },
 "nbformat": 4,
 "nbformat_minor": 5
}
